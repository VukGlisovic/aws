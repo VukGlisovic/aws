{
 "cells": [
  {
   "cell_type": "code",
   "execution_count": null,
   "metadata": {},
   "outputs": [],
   "source": [
    "%load_ext autoreload\n",
    "%autoreload 2\n",
    "\n",
    "import os\n",
    "import pytz\n",
    "import names\n",
    "import numpy as np\n",
    "import datetime as dt\n",
    "from redshift.client import RedShift"
   ]
  },
  {
   "cell_type": "code",
   "execution_count": null,
   "metadata": {},
   "outputs": [],
   "source": [
    "host = 'vuk-redshift-cluster.cxneerbzcdew.eu-west-3.redshift.amazonaws.com'\n",
    "port = '5439'\n",
    "database_name = 'dev'\n",
    "user = os.environ['AWSUSER']\n",
    "password = os.environ['AWSUSER_PASSWD']\n",
    "\n",
    "rs_client = RedShift(host, port, database_name, user, password)"
   ]
  },
  {
   "cell_type": "markdown",
   "metadata": {},
   "source": [
    "# Create tables"
   ]
  },
  {
   "cell_type": "code",
   "execution_count": null,
   "metadata": {},
   "outputs": [],
   "source": [
    "q_create_table_users = \\\n",
    "(\"CREATE TABLE users (\"\n",
    "    \"full_name VARCHAR(255), \"\n",
    "    \"age INT\"\n",
    "\");\")\n",
    "q_create_table_users"
   ]
  },
  {
   "cell_type": "code",
   "execution_count": null,
   "metadata": {},
   "outputs": [],
   "source": [
    "rs_client.execute_query(q_create_table_users)"
   ]
  },
  {
   "cell_type": "code",
   "execution_count": null,
   "metadata": {},
   "outputs": [],
   "source": [
    "q_create_table_purchases = \\\n",
    "(\"CREATE TABLE purchases (\"\n",
    "    \"purchase_time TIMESTAMP, \"\n",
    "    \"full_name VARCHAR(255), \"\n",
    "    \"product VARCHAR(255)\"\n",
    "\");\")\n",
    "q_create_table_purchases"
   ]
  },
  {
   "cell_type": "code",
   "execution_count": null,
   "metadata": {},
   "outputs": [],
   "source": [
    "rs_client.execute_query(q_create_table_purchases)"
   ]
  },
  {
   "cell_type": "markdown",
   "metadata": {},
   "source": [
    "# Insert data"
   ]
  },
  {
   "cell_type": "code",
   "execution_count": null,
   "metadata": {},
   "outputs": [],
   "source": [
    "def data_to_query(lst):\n",
    "    \n",
    "    def convert_value(v):\n",
    "        if isinstance(v, str):\n",
    "            return \"'{}'\".format(v)\n",
    "        elif isinstance(v, int):\n",
    "            return str(v)\n",
    "        elif isinstance(v, dt.datetime):\n",
    "            return \"'{}'\".format(v)\n",
    "    \n",
    "    data_string = \"(\" + \"), (\".join([\", \".join(map(convert_value, row)) for row in lst]) + \")\"\n",
    "    return data_string"
   ]
  },
  {
   "cell_type": "code",
   "execution_count": null,
   "metadata": {},
   "outputs": [],
   "source": [
    "users_data = [[names.get_first_name(), np.random.randint(18, 60)] for i in range(10)]\n",
    "\n",
    "q_insert_into_users = \\\n",
    "(\"INSERT INTO users (\"\n",
    "    \"full_name, \"\n",
    "    \"age\"\n",
    "\") \"\n",
    "\"VALUES \"\n",
    "    \"{data}\"\n",
    "\";\").format(data=data_to_query(users_data))\n",
    "q_insert_into_users"
   ]
  },
  {
   "cell_type": "code",
   "execution_count": null,
   "metadata": {},
   "outputs": [],
   "source": [
    "rs_client.execute_query(q_insert_into_users)"
   ]
  },
  {
   "cell_type": "code",
   "execution_count": null,
   "metadata": {},
   "outputs": [],
   "source": [
    "purchases_data = [(dt.datetime(2018, 1, np.random.randint(1, 32), np.random.randint(0, 24), tzinfo=pytz.UTC),\n",
    "                  names.get_first_name(),\n",
    "                  'product{}'.format(np.random.randint(1,4))) for i in range(10)]\n",
    "\n",
    "q_insert_into_purchases = \\\n",
    "(\"INSERT INTO purchases (\"\n",
    "    \"purchase_time, \"\n",
    "    \"full_name, \"\n",
    "    \"product\"\n",
    "\") \"\n",
    "\"VALUES \"\n",
    "    \"{data}\"\n",
    "\";\").format(data=data_to_query(purchases_data))\n",
    "q_insert_into_purchases"
   ]
  },
  {
   "cell_type": "code",
   "execution_count": null,
   "metadata": {},
   "outputs": [],
   "source": [
    "rs_client.execute_query(q_insert_into_purchases)"
   ]
  },
  {
   "cell_type": "markdown",
   "metadata": {},
   "source": [
    "# Query data"
   ]
  },
  {
   "cell_type": "code",
   "execution_count": null,
   "metadata": {},
   "outputs": [],
   "source": [
    "q_users_over_30 =  \"SELECT * FROM public.users WHERE age > 30\"\n",
    "\n",
    "data = rs_client.get_data(q_users_over_30)\n",
    "data"
   ]
  },
  {
   "cell_type": "code",
   "execution_count": null,
   "metadata": {},
   "outputs": [],
   "source": [
    "q_purchases_after_20180118 = \"SELECT * FROM public.purchases WHERE purchase_time > '2018-01-18 00:00:00+0000'\"\n",
    "\n",
    "data = rs_client.get_data(q_purchases_after_20180118)\n",
    "data"
   ]
  },
  {
   "cell_type": "markdown",
   "metadata": {},
   "source": [
    "# Close connection"
   ]
  },
  {
   "cell_type": "code",
   "execution_count": null,
   "metadata": {},
   "outputs": [],
   "source": [
    "rs_client.close_connection()"
   ]
  },
  {
   "cell_type": "code",
   "execution_count": null,
   "metadata": {},
   "outputs": [],
   "source": []
  },
  {
   "cell_type": "code",
   "execution_count": null,
   "metadata": {},
   "outputs": [],
   "source": []
  },
  {
   "cell_type": "code",
   "execution_count": null,
   "metadata": {},
   "outputs": [],
   "source": []
  }
 ],
 "metadata": {
  "kernelspec": {
   "display_name": "aws-python-clients",
   "language": "python",
   "name": "aws-python-clients"
  },
  "language_info": {
   "codemirror_mode": {
    "name": "ipython",
    "version": 3
   },
   "file_extension": ".py",
   "mimetype": "text/x-python",
   "name": "python",
   "nbconvert_exporter": "python",
   "pygments_lexer": "ipython3",
   "version": "3.6.7"
  }
 },
 "nbformat": 4,
 "nbformat_minor": 2
}
